{
 "cells": [
  {
   "cell_type": "code",
   "execution_count": 37,
   "metadata": {
    "id": "w4-KE-7p9kNr"
   },
   "outputs": [
    {
     "name": "stdout",
     "output_type": "stream",
     "text": [
      "Training data size: (331, 7)\n",
      "Testing data size: (83, 7)\n",
      "Mean Squared Error: 54.60196067337844\n"
     ]
    }
   ],
   "source": [
    "\n",
    "# استيراد مكتبات التعلم الآلي وتحليل البيانات\n",
    "from sklearn.datasets import fetch_openml  # لتحميل مجموعة البيانات\n",
    "from sklearn.model_selection import train_test_split  # لتقسيم البيانات إلى مجموعات تدريب واختبار\n",
    "from sklearn.linear_model import LinearRegression  # لبناء نموذج الانحدار الخطي\n",
    "from sklearn.metrics import mean_squared_error, r2_score  # لتقييم أداء النموذج\n",
    "\n",
    "# استيراد مكتبة Pandas لتحليل البيانات\n",
    "import pandas as pd\n",
    "\n",
    "# استيراد مكتبة Numpy للعمليات العددية\n",
    "import numpy as np\n",
    "\n",
    "df=pd.read_csv(\"FILE MANE.csv\")\n",
    "\n",
    "# استيراد المكتبة اللازمة لتقسيم البيانات\n",
    "\n",
    "\n",
    "# نفترض أن البيانات قد تم تحميلها مسبقًا في المتغير data\n",
    "# نفصل الميزات (features) عن الهدف (target)\n",
    "X = df.drop(columns='Y')  # إزالة العمود المستهدف 'medv' من الميزات\n",
    "y = df['Y']  # تحديد العمود المستهدف\n",
    "\n",
    "# تقسيم البيانات إلى مجموعات تدريب واختبار\n",
    "X_train, X_test, y_train, y_test = train_test_split(X, y, test_size=0.2, random_state=42, shuffle = True)\n",
    "\n",
    "# عرض حجم مجموعات البيانات\n",
    "print(\"Training data size:\", X_train.shape)\n",
    "print(\"Testing data size:\", X_test.shape)\n",
    "\n",
    "\n",
    "# إنشاء نموذج الانحدار الخطي\n",
    "linear_model = LinearRegression()\n",
    "\n",
    "\n",
    "# تدريب النموذج باستخدام بيانات التدريب\n",
    "linear_model.fit(X_train, y_train)\n",
    "\n",
    "# حساب الخطأ التربيعي المتوسط\n",
    "mse = mean_squared_error(y_test, y_pred)\n",
    "\n",
    "# عرض قيمة الخطأ التربيعي المتوسط\n",
    "print(\"Mean Squared Error:\", mse)\n"
   ]
  },
  {
   "cell_type": "code",
   "execution_count": null,
   "metadata": {},
   "outputs": [],
   "source": []
  }
 ],
 "metadata": {
  "colab": {
   "provenance": []
  },
  "kernelspec": {
   "display_name": "Python 3 (ipykernel)",
   "language": "python",
   "name": "python3"
  },
  "language_info": {
   "codemirror_mode": {
    "name": "ipython",
    "version": 3
   },
   "file_extension": ".py",
   "mimetype": "text/x-python",
   "name": "python",
   "nbconvert_exporter": "python",
   "pygments_lexer": "ipython3",
   "version": "3.12.4"
  }
 },
 "nbformat": 4,
 "nbformat_minor": 4
}
